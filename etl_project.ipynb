{
 "cells": [
  {
   "attachments": {},
   "cell_type": "markdown",
   "metadata": {},
   "source": [
    "## Our Project\n",
    "#### Team Members: John Clark, Nicole Fejfar, Jason O'Day, Marianne Pagerit\n",
    "#### Instructions to Graders:\n",
    "\t• In postgreSQL create a database called 'movies_db'\n",
    "    • Create tables in postgreSQL using the 'schema.sql' file\n",
    "\t• Run the Jupyter Notebook code below\n",
    "\t• \n"
   ]
  },
  {
   "cell_type": "code",
   "execution_count": null,
   "metadata": {},
   "outputs": [],
   "source": [
    "import pandas as pd\n",
    "from sqlalchemy import create_engine\n",
    "import requests"
   ]
  },
  {
   "cell_type": "code",
   "execution_count": null,
   "metadata": {},
   "outputs": [],
   "source": [
    "from config import username\n",
    "from config import password"
   ]
  },
  {
   "cell_type": "markdown",
   "metadata": {},
   "source": [
    "## The Numbers Website Scrape\n",
    "Source: https://www.the-numbers.com/box-office-records/domestic/all-movies/cumulative/all-time-inflation-adjusted"
   ]
  },
  {
   "cell_type": "code",
   "execution_count": null,
   "metadata": {},
   "outputs": [],
   "source": [
    "# This is the website where we will pull box office numbers for hollywood movies\n",
    "url = 'https://www.the-numbers.com/box-office-records/domestic/all-movies/cumulative/all-time-inflation-adjusted'\n",
    "\n",
    "# These headers will allow us to avoid a 403 error by mimicing a web browser\n",
    "header = {\n",
    "  \"User-Agent\": \"Mozilla/5.0 (X11; Linux x86_64) AppleWebKit/537.36 (KHTML, like Gecko) Chrome/50.0.2661.75 Safari/537.36\",\n",
    "  \"X-Requested-With\": \"XMLHttpRequest\"\n",
    "}"
   ]
  },
  {
   "cell_type": "code",
   "execution_count": null,
   "metadata": {},
   "outputs": [],
   "source": [
    "# format the request to mimic a web browser\n",
    "r = requests.get(url, headers=header)\n",
    "\n",
    "# import tables using pandas\n",
    "tables = pd.read_html(r.text)\n",
    "\n",
    "# save the first table as a dataframe\n",
    "movie_numbers_df = tables[0]\n",
    "\n",
    "movie_numbers_df.head()"
   ]
  },
  {
   "cell_type": "code",
   "execution_count": null,
   "metadata": {},
   "outputs": [],
   "source": [
    "# set the initial count value. This will be appended to the URL for each loop to get the \n",
    "# next page of movies.\n",
    "count = 101\n",
    "\n",
    "# iterate through 40 the movie pages, updating the counter for the next set of 100 movies\n",
    "while count < 4001:\n",
    "    url_string = url + f'/{count}'\n",
    "#     print(url_string)\n",
    "    req = requests.get(url_string, headers=header)\n",
    "    tables = pd.read_html(req.text)\n",
    "    movie_numbers_df = movie_numbers_df.append(tables[0])\n",
    "    count = count + 100"
   ]
  },
  {
   "cell_type": "code",
   "execution_count": null,
   "metadata": {},
   "outputs": [],
   "source": [
    "# Rename columns\n",
    "movie_numbers_df = movie_numbers_df.rename(columns={'Rank': 'rank', 'Released': 'released', 'Movie': 'movie',\n",
    "                                            'Total Box Office': 'total_box_office'})"
   ]
  },
  {
   "cell_type": "code",
   "execution_count": null,
   "metadata": {},
   "outputs": [],
   "source": [
    "movie_numbers_df.shape"
   ]
  },
  {
   "cell_type": "markdown",
   "metadata": {},
   "source": [
    "## Streaming Movie Platform CSV\n",
    "Source: https://www.kaggle.com/ruchi798/movies-on-netflix-prime-video-hulu-and-disney?select=MoviesOnStreamingPlatforms_updated.csv"
   ]
  },
  {
   "cell_type": "code",
   "execution_count": null,
   "metadata": {},
   "outputs": [],
   "source": [
    "# Load streaming csv file\n",
    "stream_file = 'MoviesOnStreamingPlatforms_updated.csv'\n",
    "stream_df = pd.read_csv(stream_file)\n",
    "stream_df.head(1)"
   ]
  },
  {
   "cell_type": "code",
   "execution_count": null,
   "metadata": {},
   "outputs": [],
   "source": [
    "# Remove extraneous columns\n",
    "stream_cols = ['ID', 'Title', 'Year', 'Age', 'IMDb', 'Rotten Tomatoes',\n",
    "       'Netflix', 'Hulu', 'Prime Video', 'Disney+', 'Directors',\n",
    "       'Genres', 'Language', 'Runtime']\n",
    "stream_df = stream_df[stream_cols].copy()\n",
    "\n",
    "# Rename columns\n",
    "stream_df = stream_df.rename(columns={'ID': 'id', 'Title': 'title', 'Year': 'released', 'Age': 'suggested_viewing_age',\n",
    "                                     'IMDb': 'imdb', 'Rotten Tomatoes': 'rotten_tomatoes', 'Netflix': 'netflix',\n",
    "                                     'Hulu': 'hulu', 'Prime Video': 'prime_video', 'Disney+': 'disney+',\n",
    "                                     'Directors': 'directors', 'Genres': 'genres', 'Language': 'language',\n",
    "                                     'Runtime': 'runtime'})"
   ]
  },
  {
   "cell_type": "code",
   "execution_count": null,
   "metadata": {},
   "outputs": [],
   "source": [
    "# Change 0's & 1's to more meaningful data\n",
    "stream_df['netflix'] = stream_df['netflix'].replace(1,'Yes').replace(0,'No')\n",
    "stream_df['hulu'] = stream_df['hulu'].replace(1,'Yes').replace(0,'No')\n",
    "stream_df['prime_video'] = stream_df['prime_video'].replace(1,'Yes').replace(0,'No')\n",
    "stream_df['disney+'] = stream_df['disney+'].replace(1,'Yes').replace(0,'No')"
   ]
  },
  {
   "cell_type": "code",
   "execution_count": null,
   "metadata": {},
   "outputs": [],
   "source": [
    "stream_df.head()"
   ]
  },
  {
   "cell_type": "markdown",
   "metadata": {},
   "source": [
    "### Create database connection & load DataFrames into database"
   ]
  },
  {
   "cell_type": "code",
   "execution_count": null,
   "metadata": {},
   "outputs": [],
   "source": [
    "connection_string = \"username:password@localhost:5432/movies_db\"\n",
    "engine = create_engine(f'postgresql://{connection_string}')"
   ]
  },
  {
   "cell_type": "code",
   "execution_count": null,
   "metadata": {},
   "outputs": [],
   "source": [
    "movie_numbers_df.to_sql(name='box_office', con=engine, if_exists='replace', index=False)"
   ]
  },
  {
   "cell_type": "code",
   "execution_count": null,
   "metadata": {},
   "outputs": [],
   "source": [
    "stream_df.to_sql(name='streaming', con=engine, if_exists='replace', index=False)"
   ]
  }
 ],
 "metadata": {
  "kernelspec": {
   "display_name": "Python 3",
   "language": "python",
   "name": "python3"
  },
  "language_info": {
   "codemirror_mode": {
    "name": "ipython",
    "version": 3
   },
   "file_extension": ".py",
   "mimetype": "text/x-python",
   "name": "python",
   "nbconvert_exporter": "python",
   "pygments_lexer": "ipython3",
   "version": "3.6.10"
  }
 },
 "nbformat": 4,
 "nbformat_minor": 4
}
