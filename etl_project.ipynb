{
 "cells": [
  {
   "cell_type": "markdown",
   "metadata": {},
   "source": [
    "# What should I watch tonight?\n",
    "## Movie Data ETL Project\n",
    "\n",
    "#### Team Members: John Clark, Nicole Fejfar, Jason O'Day, Marianne Pagerit\n"
   ]
  },
  {
   "cell_type": "code",
   "execution_count": null,
   "metadata": {},
   "outputs": [],
   "source": [
    "import pandas as pd\n",
    "from sqlalchemy import create_engine\n",
    "import requests"
   ]
  },
  {
   "cell_type": "code",
   "execution_count": null,
   "metadata": {},
   "outputs": [],
   "source": [
    "from config import username\n",
    "from config import password"
   ]
  },
  {
   "cell_type": "markdown",
   "metadata": {},
   "source": [
    "# Extract\n",
    "We extracted data from two sources: \"The Numbers\", a website with movie data, and a CSV of data on streaming services. More details are below."
   ]
  },
  {
   "cell_type": "markdown",
   "metadata": {},
   "source": [
    "## Extract Part 1: The Numbers Website Scrape\n",
    "Source: https://www.the-numbers.com/box-office-records/domestic/all-movies/cumulative/all-time-inflation-adjusted\n",
    "\n",
    "This data was originally located on the source website in a table. The first attempt at scraping was unsuccessful and resulted in a 403 error. The raw python code was interpreted by the website as a bot, and the scraping attempt was blocked. We used code to mimic a web browser to allow us to pull the tables."
   ]
  },
  {
   "cell_type": "code",
   "execution_count": null,
   "metadata": {},
   "outputs": [],
   "source": [
    "# This is the website where we will pull box office numbers for hollywood movies\n",
    "url = 'https://www.the-numbers.com/box-office-records/domestic/all-movies/cumulative/all-time-inflation-adjusted'\n",
    "\n",
    "# These headers will allow us to avoid a 403 error by mimicing a web browser\n",
    "header = {\n",
    "  \"User-Agent\": \"Mozilla/5.0 (X11; Linux x86_64) AppleWebKit/537.36 (KHTML, like Gecko) Chrome/50.0.2661.75 Safari/537.36\",\n",
    "  \"X-Requested-With\": \"XMLHttpRequest\"\n",
    "}"
   ]
  },
  {
   "cell_type": "code",
   "execution_count": null,
   "metadata": {},
   "outputs": [],
   "source": [
    "# format the request to mimic a web browser\n",
    "r = requests.get(url, headers=header)\n",
    "\n",
    "# import tables using pandas\n",
    "tables = pd.read_html(r.text)\n",
    "\n",
    "# save the first table as a dataframe\n",
    "movie_numbers_df = tables[0]\n",
    "\n",
    "movie_numbers_df.head()"
   ]
  },
  {
   "cell_type": "code",
   "execution_count": null,
   "metadata": {},
   "outputs": [],
   "source": [
    "# This part takes just a few moments to complete\n",
    "# set the initial count value. This will be appended to the URL for each loop to get the \n",
    "# next page of movies.\n",
    "count = 101\n",
    "\n",
    "# iterate through the movie pages, updating the counter for the next set of 100 movies\n",
    "while count < 10001:\n",
    "    url_string = url + f'/{count}'\n",
    "#     print(url_string)\n",
    "    req = requests.get(url_string, headers=header)\n",
    "    tables = pd.read_html(req.text)\n",
    "    movie_numbers_df = movie_numbers_df.append(tables[0])\n",
    "    count = count + 100"
   ]
  },
  {
   "cell_type": "markdown",
   "metadata": {},
   "source": [
    "# Transform: part 1\n",
    "The data in this dataframe is already clean and well-formatted. Box Office numbers were formatted as a string due to the inclusion of commas and dollar signs. In order to use these numbers in analysis, we had to convert to the integer type. Our first step was to remove the commas and the dollar sign, and then we were able to convert the string to an integer. Columns were renamed to enable easier importing into our database."
   ]
  },
  {
   "cell_type": "code",
   "execution_count": null,
   "metadata": {},
   "outputs": [],
   "source": [
    "# Rename columns\n",
    "movie_numbers_df = movie_numbers_df.rename(columns={'Rank': 'rank', 'Released': 'released', 'Movie': 'movie',\n",
    "                                            'Total Box Office': 'total_box_office'})"
   ]
  },
  {
   "cell_type": "code",
   "execution_count": null,
   "metadata": {},
   "outputs": [],
   "source": [
    "# verify the number of movies in the dataframe\n",
    "movie_numbers_df.shape"
   ]
  },
  {
   "cell_type": "code",
   "execution_count": null,
   "metadata": {},
   "outputs": [],
   "source": [
    "# Remove dollar signs to prepare to convert to int\n",
    "movie_numbers_df['total_box_office'] = movie_numbers_df['total_box_office'].map(lambda x: x.lstrip('$'))\n",
    "movie_numbers_df['total_box_office'] = movie_numbers_df['total_box_office'].str.replace(',','')"
   ]
  },
  {
   "cell_type": "code",
   "execution_count": null,
   "metadata": {},
   "outputs": [],
   "source": [
    "movie_numbers_df['total_box_office'] = movie_numbers_df['total_box_office'].astype(int)\n",
    "movie_numbers_df"
   ]
  },
  {
   "cell_type": "markdown",
   "metadata": {},
   "source": [
    "## Extract Part 2: Streaming Movie Platform CSV\n",
    "Source: https://www.kaggle.com/ruchi798/movies-on-netflix-prime-video-hulu-and-disney?select=MoviesOnStreamingPlatforms_updated.csv\n",
    "\n",
    "This data was downloaded from kaggle in CSV format."
   ]
  },
  {
   "cell_type": "code",
   "execution_count": null,
   "metadata": {},
   "outputs": [],
   "source": [
    "# Load streaming csv file\n",
    "stream_file = 'MoviesOnStreamingPlatforms_updated.csv'\n",
    "stream_df = pd.read_csv(stream_file)\n",
    "stream_df.head(1)"
   ]
  },
  {
   "cell_type": "markdown",
   "metadata": {},
   "source": [
    "# Transform: Part 2\n",
    "We dropped the Type and Country columns, as we felt that they would not be useful in our analysis. We then renamed columns for clarity, updating them to be more descriptive (ie \"Age\" became \"suggested_viewing_age\".) We also formatted the new column names to more easily map to the database.\n",
    "\n",
    "We updated the data in each of the streaming service columns (Netflix, Hulu, Prime Video, and Disney Plus) to be more intuitve to users. We replaced '1' with 'Yes', and '0' with 'No'. "
   ]
  },
  {
   "cell_type": "code",
   "execution_count": null,
   "metadata": {},
   "outputs": [],
   "source": [
    "# Remove extraneous columns\n",
    "stream_cols = ['ID', 'Title', 'Year', 'Age', 'IMDb', 'Rotten Tomatoes',\n",
    "       'Netflix', 'Hulu', 'Prime Video', 'Disney+', 'Directors',\n",
    "       'Genres', 'Language', 'Runtime']\n",
    "stream_df = stream_df[stream_cols].copy()\n",
    "\n",
    "# Rename columns\n",
    "stream_df = stream_df.rename(columns={'ID': 'id', 'Title': 'title', 'Year': 'released', 'Age': 'suggested_viewing_age',\n",
    "                                     'IMDb': 'imdb', 'Rotten Tomatoes': 'rotten_tomatoes', 'Netflix': 'netflix',\n",
    "                                     'Hulu': 'hulu', 'Prime Video': 'prime_video', 'Disney+': 'disney_plus',\n",
    "                                     'Directors': 'directors', 'Genres': 'genres', 'Language': 'language',\n",
    "                                     'Runtime': 'runtime'})"
   ]
  },
  {
   "cell_type": "code",
   "execution_count": null,
   "metadata": {},
   "outputs": [],
   "source": [
    "# Change 0's & 1's to more meaningful data\n",
    "stream_df['netflix'] = stream_df['netflix'].replace(1,'Yes').replace(0,'No')\n",
    "stream_df['hulu'] = stream_df['hulu'].replace(1,'Yes').replace(0,'No')\n",
    "stream_df['prime_video'] = stream_df['prime_video'].replace(1,'Yes').replace(0,'No')\n",
    "stream_df['disney_plus'] = stream_df['disney_plus'].replace(1,'Yes').replace(0,'No')"
   ]
  },
  {
   "cell_type": "code",
   "execution_count": null,
   "metadata": {},
   "outputs": [],
   "source": [
    "stream_df.head()"
   ]
  },
  {
   "cell_type": "markdown",
   "metadata": {},
   "source": [
    "# Load\n",
    "We decided to create two tables in our database: \n",
    "* streaming, using data from stream_df (originally sourced from the CSV file)\n",
    "* box_office, using data from movie_numbers_df (originally sourced from the website scrape)\n",
    "\n",
    "Table joins would use the title and released fields from the streaming table, and the movie and released fields from the box_office table. It's necessary to use both because remakes or movies with similar stories may have the same titles. (Especially in light of all the recent Disney remakes.)"
   ]
  },
  {
   "cell_type": "markdown",
   "metadata": {},
   "source": [
    "### Create database connection & load DataFrames into database"
   ]
  },
  {
   "cell_type": "code",
   "execution_count": null,
   "metadata": {},
   "outputs": [],
   "source": [
    "connection_string = f\"{username}:{password}@localhost:5432/movies_db\"\n",
    "engine = create_engine(f'postgresql://{connection_string}')"
   ]
  },
  {
   "cell_type": "code",
   "execution_count": null,
   "metadata": {},
   "outputs": [],
   "source": [
    "movie_numbers_df.to_sql(name='box_office', con=engine, if_exists='replace', index=False)"
   ]
  },
  {
   "cell_type": "code",
   "execution_count": null,
   "metadata": {},
   "outputs": [],
   "source": [
    "stream_df.to_sql(name='streaming', con=engine, if_exists='replace', index=False)"
   ]
  },
  {
   "cell_type": "code",
   "execution_count": null,
   "metadata": {},
   "outputs": [],
   "source": [
    "# verify the streaming data loaded correctly into the database\n",
    "pd.read_sql_query('select * from streaming', con=engine).head()"
   ]
  },
  {
   "cell_type": "code",
   "execution_count": null,
   "metadata": {},
   "outputs": [],
   "source": [
    "# verify the box_office data loaded correctly into the database\n",
    "pd.read_sql_query('select * from box_office', con=engine).head()"
   ]
  }
 ],
 "metadata": {
  "kernelspec": {
   "display_name": "Python 3",
   "language": "python",
   "name": "python3"
  },
  "language_info": {
   "codemirror_mode": {
    "name": "ipython",
    "version": 3
   },
   "file_extension": ".py",
   "mimetype": "text/x-python",
   "name": "python",
   "nbconvert_exporter": "python",
   "pygments_lexer": "ipython3",
   "version": "3.6.10"
  }
 },
 "nbformat": 4,
 "nbformat_minor": 4
}
